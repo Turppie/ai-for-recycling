{
 "cells": [
  {
   "cell_type": "code",
   "execution_count": 2,
   "id": "f1469b17",
   "metadata": {},
   "outputs": [],
   "source": [
    "import torch\n",
    "import matplotlib.pyplot as plt\n",
    "from torchvision import datasets, transforms\n",
    "from torch.utils.data import DataLoader, Subset\n",
    "from sklearn.model_selection import StratifiedShuffleSplit\n",
    "from sklearn.metrics import classification_report, confusion_matrix\n",
    "import numpy as np\n",
    "import torch.nn as nn\n",
    "import torch.optim as optim\n",
    "from livelossplot import PlotLosses"
   ]
  },
  {
   "cell_type": "code",
   "execution_count": 5,
   "id": "9cb37811",
   "metadata": {},
   "outputs": [],
   "source": [
    "train_transforms = transforms.Compose([\n",
    "    transforms.Resize((224,224)),\n",
    "    transforms.RandomResizedCrop(224),\n",
    "    transforms.RandomHorizontalFlip(),\n",
    "    transforms.RandomRotation(10),\n",
    "    transforms.ColorJitter(brightness=0.1, contrast=0.1),\n",
    "    transforms.ToTensor(),\n",
    "    transforms.Normalize(mean=[0.485, 0.456, 0.406],\n",
    "                         std=[0.229, 0.224, 0.225])\n",
    "    \n",
    "])\n",
    "\n",
    "val_transforms = transforms.Compose([\n",
    "    transforms.Resize((224,224)),\n",
    "    transforms.CenterCrop(224),\n",
    "    transforms.ToTensor(),\n",
    "    transforms.Normalize(mean=[0.485, 0.456, 0.406],\n",
    "                         std=[0.229, 0.224, 0.225])\n",
    "])\n",
    "\n",
    "dataset_train = datasets.ImageFolder(root='dataset', transform=train_transforms)\n",
    "dataset_val = datasets.ImageFolder(root='dataset', transform=val_transforms)\n",
    "\n",
    "targets = np.array([s[1] for s in dataset_train.samples])\n",
    "\n",
    "sss = StratifiedShuffleSplit(n_splits=1, test_size=0.2, random_state=42)\n",
    "train_idx, val_idx = next(sss.split(np.zeros(len(targets)),targets))\n",
    "\n",
    "train_dataset = Subset(dataset_train,train_idx)\n",
    "val_dataset = Subset(dataset_val,val_idx)\n",
    "\n",
    "train_loader = DataLoader(train_dataset, batch_size=32, shuffle=True)\n",
    "val_loader = DataLoader(val_dataset, batch_size=32, shuffle=False)\n"
   ]
  },
  {
   "cell_type": "markdown",
   "id": "a50c4eda",
   "metadata": {},
   "source": [
    "## Setup Device"
   ]
  },
  {
   "cell_type": "code",
   "execution_count": 11,
   "id": "c5006f88",
   "metadata": {},
   "outputs": [],
   "source": [
    "device = torch.device('mps' if torch.cuda.is_available() else 'cpu') # en mac cambiar 'cuda' por 'mps' esta implementación se uso en una rtx 3060 "
   ]
  },
  {
   "cell_type": "markdown",
   "id": "54e9e9d8",
   "metadata": {},
   "source": [
    "## Hiperparametros"
   ]
  },
  {
   "cell_type": "code",
   "execution_count": 21,
   "id": "6a7cce6d",
   "metadata": {},
   "outputs": [],
   "source": [
    "BATCH_SIZE = 32\n",
    "NUM_CLASSES = 20\n",
    "INTIAL_EPOCHS = 5\n",
    "FINE_TUNE_EPOCHS = 10\n",
    "LEARNING_RATE_HEAD = 1e-3\n",
    "LEARNING_RATE_FINE = 1e-4"
   ]
  },
  {
   "cell_type": "code",
   "execution_count": null,
   "id": "58f12159",
   "metadata": {},
   "outputs": [],
   "source": [
    "from torchvision.models import efficientnet_v2_s, EfficientNet_V2_S_Weights\n",
    "weights = EfficientNet_V2_S_Weights.IMAGENET1K_V1\n",
    "num_classes = 9\n",
    "model = efficientnet_v2_s(weights=weights)\n",
    "model.classifier[1] = nn.Linear(in_features=model.classifier[1].in_features, out_features=NUM_CLASSES)\n",
    "model = model.to(device)\n"
   ]
  },
  {
   "cell_type": "code",
   "execution_count": null,
   "id": "1382a41b",
   "metadata": {},
   "outputs": [],
   "source": [
    "criterion = nn.CrossEntropyLoss()\n",
    "optimizer = optim.Adam(model.classifier.parameters(), lr=LEARNING_RATE_HEAD)\n",
    "scheduler = optim.lr_scheduler.ReduceLROnPlateau(optimizer, mode='min', factor=0.5, patience=2)"
   ]
  },
  {
   "cell_type": "code",
   "execution_count": 25,
   "id": "926658e9",
   "metadata": {},
   "outputs": [],
   "source": [
    "liveloss = PlotLosses()\n",
    "best_acc = 0 \n",
    "logs = {}"
   ]
  },
  {
   "cell_type": "code",
   "execution_count": 24,
   "id": "283247f2",
   "metadata": {},
   "outputs": [],
   "source": [
    "for param in model.features.parameters():\n",
    "    param.requires_grad = False"
   ]
  },
  {
   "cell_type": "code",
   "execution_count": 30,
   "id": "c6a254d0",
   "metadata": {},
   "outputs": [],
   "source": [
    "def train_one_epoch(model, loader, optimizer, criterion):\n",
    "    model.train()\n",
    "    correct = total = train_loss = 0\n",
    "    for xb,yb in loader:\n",
    "        xb, yb = xb.to(device), yb.to(device)\n",
    "        optimizer.zero_grad()\n",
    "        outputs = model(xb)\n",
    "        loss = criterion(outputs, yb)\n",
    "        loss.backward()\n",
    "        optimizer.step()\n",
    "        \n",
    "        train_loss += loss.item()\n",
    "        _, preds = outputs.max(1)\n",
    "        correct += (preds == yb).sum().item()\n",
    "        total += yb.size(0)\n",
    "    logs['loss'] = train_loss / len(loader)\n",
    "    logs['accuracy'] = correct/total"
   ]
  },
  {
   "cell_type": "code",
   "execution_count": 31,
   "id": "7c13185a",
   "metadata": {},
   "outputs": [],
   "source": [
    "def evaluate(model, loader, criterion):\n",
    "    model.eval()\n",
    "    val_loss = correct = total = 0\n",
    "    with torch.no_grad():\n",
    "        for xb, yb in loader:\n",
    "            xb, yb = xb.to(device), yb.to(device)\n",
    "            outputs = model(xb)\n",
    "            loss = criterion(outputs, yb)\n",
    "            val_loss += loss.item()\n",
    "            _, preds = outputs.max(1)\n",
    "            correct += (preds == yb).sum().item()\n",
    "            total += yb.size(0)\n",
    "\n",
    "    logs['val_loss'] = val_loss / len(loader)\n",
    "    logs['val_accuracy'] = correct / total\n"
   ]
  },
  {
   "cell_type": "code",
   "execution_count": null,
   "id": "6a416911",
   "metadata": {},
   "outputs": [],
   "source": [
    "print(\"Entrenando el head\")\n",
    "for epoch in range(INTIAL_EPOCHS):\n",
    "    train_one_epoch(model, train_loader, optimizer, criterion)\n",
    "    evaluate(model, val_loader, criterion)\n",
    "    \n",
    "    liveloss.update(logs)\n",
    "    liveloss.draw()\n",
    "    \n",
    "    scheduler.step(logs['val_loss'])\n",
    "    \n",
    "    if logs['val_accuracy'] > best_acc:\n",
    "        best_acc = logs['val_accuracy']\n",
    "        torch.save(model.state_dict(), 'best_model_head.pth')\n",
    "        print(f\"Mejor validación: {best_acc:.4f}\")\n",
    "\n",
    "print(\"Descongelando el backbone\")\n",
    "\n",
    "for param in model.features[-1].parameters():\n",
    "    param.requires_grad = True\n",
    "\n",
    "optimizer = optim.Adam(filter(lambda p: p.requires_grad, model.parameters()), lr=LEARNING_RATE_FINE)\n",
    "scheduler = optim.lr_scheduler.ReduceLROnPlateau(optimizer, mode='min', factor=0.5, patience=3)\n",
    "\n",
    "print(\"Fine tuning\")\n",
    "for epoch in range(FINE_TUNE_EPOCHS):\n",
    "    train_one_epoch(model, train_loader, optimizer, criterion)\n",
    "    evaluate(model, val_loader, criterion)\n",
    "    \n",
    "    liveloss.update(logs)\n",
    "    liveloss.draw()\n",
    "    \n",
    "    scheduler.step(logs['val_loss'])\n",
    "    \n",
    "    if logs['val_accuracy'] > best_acc:\n",
    "        best_acc = logs['val_accuracy']\n",
    "        torch.save(model.state_dict(), 'best_model_finetuned.pth')\n",
    "        print(f\"Mejor validación: {best_acc:.4f}\")\n",
    "\n",
    "\n"
   ]
  }
 ],
 "metadata": {
  "kernelspec": {
   "display_name": "venv",
   "language": "python",
   "name": "python3"
  },
  "language_info": {
   "codemirror_mode": {
    "name": "ipython",
    "version": 3
   },
   "file_extension": ".py",
   "mimetype": "text/x-python",
   "name": "python",
   "nbconvert_exporter": "python",
   "pygments_lexer": "ipython3",
   "version": "3.11.13"
  }
 },
 "nbformat": 4,
 "nbformat_minor": 5
}
